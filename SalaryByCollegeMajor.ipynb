{
 "cells": [
  {
   "cell_type": "markdown",
   "metadata": {},
   "source": [
    "### Salary of Graduates by Degree Earned\n",
    "See the repo's README for where to download the data/find documentation.\n",
    "\n",
    "##### Possible Things to Explore:\n",
    "\n",
    "What factors contribute to a higher share of students making over $25,000?\n",
    "\n",
    "Can we visualize statistics by state on to a map of the U.S.\n",
    "\n",
    "What university is the best value?"
   ]
  },
  {
   "cell_type": "code",
   "execution_count": 17,
   "metadata": {
    "collapsed": true
   },
   "outputs": [],
   "source": [
    "import sys\n",
    "import os\n",
    "import pandas as pd\n",
    "import warnings\n",
    "warnings.filterwarnings('ignore')\n",
    "\n",
    "'''\n",
    "chances are that we will not be able to store our data in our working directory\n",
    "during datafest if we want to use github, as the data will likely be sensitive\n",
    "company information not available publicly. to help get around this easily i have\n",
    "written a function that will create a list of panda data frame objects using a\n",
    "directory path in the standard UNC format. this function takes a second to\n",
    "complete (240Mb) and causes jupyter to freak out a little, but it should work.\n",
    "'''\n",
    "def get_data(directory_path):\n",
    "    data = []\n",
    "    for subdir, dirs, files in os.walk(directory_path):\n",
    "        for file in files:\n",
    "            f = open(os.path.join(subdir, file))\n",
    "            data.append(pd.read_csv(f))\n",
    "    return data"
   ]
  },
  {
   "cell_type": "code",
   "execution_count": 18,
   "metadata": {
    "collapsed": false
   },
   "outputs": [
    {
     "name": "stdout",
     "output_type": "stream",
     "text": [
      "264\n"
     ]
    }
   ],
   "source": [
    "data = get_data(\"R:\\The Library of Dataxandria\\Datasets\\CollegeScorecard\\CollegeScorecard_Raw_Data\")\n",
    "data[0].head(5)\n",
    "# print(sys.getsizeof(data))"
   ]
  },
  {
   "cell_type": "code",
   "execution_count": null,
   "metadata": {
    "collapsed": true
   },
   "outputs": [],
   "source": []
  }
 ],
 "metadata": {
  "anaconda-cloud": {},
  "kernelspec": {
   "display_name": "Python [Root]",
   "language": "python",
   "name": "Python [Root]"
  },
  "language_info": {
   "codemirror_mode": {
    "name": "ipython",
    "version": 3
   },
   "file_extension": ".py",
   "mimetype": "text/x-python",
   "name": "python",
   "nbconvert_exporter": "python",
   "pygments_lexer": "ipython3",
   "version": "3.5.2"
  }
 },
 "nbformat": 4,
 "nbformat_minor": 1
}
